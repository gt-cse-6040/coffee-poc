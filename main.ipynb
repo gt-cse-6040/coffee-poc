{
 "cells": [
  {
   "cell_type": "code",
   "execution_count": null,
   "id": "03fccea7",
   "metadata": {},
   "outputs": [],
   "source": [
    "!pip install git+https://github.com/albert-r-waldron/cse6040-devkit.git@v1.0.0"
   ]
  },
  {
   "cell_type": "markdown",
   "id": "0",
   "metadata": {
    "tags": [
     "main.header"
    ]
   },
   "source": [
    "# `assignment name`: `assignment subtitle`\n",
    "_Version 0.0.1_\n",
    "\n",
    "*All of the header information is important. Please read it..*\n",
    "\n",
    "**Topics number of exercises:** This problem builds on your knowledge of `this, that, and the other`. It has **0** exercises numbered 0 to **-1**. There are **total points** available points. However to earn 100% the threshold is **points cap** points. (Therefore once you hit **points cap** points you can stop. There is no extra credit for exceeding this threshold.)\n",
    "\n",
    "**Exercise ordering:** Each exercise builds logically on previous exercises but you may solve them in any order. That is if you can't solve an exercise you can still move on and try the next one. Use this to your advantage as the exercises are **not** necessarily ordered in terms of difficulty. Higher point values generally indicate more difficult exercises. \n",
    "\n",
    "**Demo cells:** Code cells starting with the comment `### Run Me!!!` load results from prior exercises applied to the entire data set and use those to build demo inputs. These must be run for subsequent demos to work properly but they do not affect the test cells. The data loaded in these cells may be rather large (at least in terms of human readability). You are free to print or otherwise use Python to explore them but we may not print them in the starter code.\n",
    "\n",
    "**Debugging your code:** Right before each exercise test cell there is a block of text explaining the variables available to you for debugging. You may use these to test your code and can print/display them as needed (careful when printing large objects you may want to print the head or chunks of rows at a time).\n",
    "\n",
    "**Exercise point breakdown:**\n",
    "\n",
    "\n",
    "\n",
    "**Final reminders:** \n",
    "\n",
    "- Submit after **every exercise**\n",
    "- Review the generated grade report after you submit to see what errors were returned\n",
    "- Stay calm, skip problems as needed and take short breaks at your leisure"
   ]
  },
  {
   "cell_type": "code",
   "execution_count": 2,
   "id": "1",
   "metadata": {
    "tags": [
     "main.global_imports"
    ]
   },
   "outputs": [],
   "source": [
    "### Global imports\n",
    "import dill\n",
    "from cse6040_devkit import plugins, utils\n",
    "import re \n",
    "import pandas as pd\n",
    "\n"
   ]
  }
 ],
 "metadata": {
  "kernelspec": {
   "display_name": "voc",
   "language": "python",
   "name": "python3"
  },
  "language_info": {
   "codemirror_mode": {
    "name": "ipython",
    "version": 3
   },
   "file_extension": ".py",
   "mimetype": "text/x-python",
   "name": "python",
   "nbconvert_exporter": "python",
   "pygments_lexer": "ipython3",
   "version": "3.8.8"
  }
 },
 "nbformat": 4,
 "nbformat_minor": 5
}
