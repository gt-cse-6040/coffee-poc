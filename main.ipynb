{
 "cells": [
  {
   "cell_type": "code",
   "execution_count": null,
   "id": "0",
   "metadata": {},
   "outputs": [
    {
     "name": "stdout",
     "output_type": "stream",
     "text": [
      "Collecting git+https://github.com/albert-r-waldron/cse6040-devkit.git@v1.0.0\n",
      "  Cloning https://github.com/albert-r-waldron/cse6040-devkit.git (to revision v1.0.0) to /tmp/pip-req-build-75as0g50\n",
      "  Running command git clone --filter=blob:none --quiet https://github.com/albert-r-waldron/cse6040-devkit.git /tmp/pip-req-build-75as0g50\n",
      "  Resolved https://github.com/albert-r-waldron/cse6040-devkit.git to commit 5af0edb1ead2226498954ef8ecd4e9411b0ef548\n",
      "  Installing build dependencies ... \u001b[?25ldone\n",
      "\u001b[?25h  Getting requirements to build wheel ... \u001b[?25ldone\n",
      "\u001b[?25h  Preparing metadata (pyproject.toml) ... \u001b[?25ldone\n",
      "\u001b[?25h"
     ]
    }
   ],
   "source": [
    "!pip install git+https://github.com/albert-r-waldron/cse6040-devkit.git@v1.0.0"
   ]
  },
  {
   "cell_type": "markdown",
   "id": "1",
   "metadata": {
    "tags": [
     "main.header"
    ]
   },
   "source": [
    "# `assignment name`: `assignment subtitle`\n",
    "_Version 0.0.1_\n",
    "\n",
    "*All of the header information is important. Please read it..*\n",
    "\n",
    "**Topics number of exercises:** This problem builds on your knowledge of `this, that, and the other`. It has **1** exercises numbered 0 to **0**. There are **total points** available points. However to earn 100% the threshold is **points cap** points. (Therefore once you hit **points cap** points you can stop. There is no extra credit for exceeding this threshold.)\n",
    "\n",
    "**Exercise ordering:** Each exercise builds logically on previous exercises but you may solve them in any order. That is if you can't solve an exercise you can still move on and try the next one. Use this to your advantage as the exercises are **not** necessarily ordered in terms of difficulty. Higher point values generally indicate more difficult exercises. \n",
    "\n",
    "**Demo cells:** Code cells starting with the comment `### Run Me!!!` load results from prior exercises applied to the entire data set and use those to build demo inputs. These must be run for subsequent demos to work properly but they do not affect the test cells. The data loaded in these cells may be rather large (at least in terms of human readability). You are free to print or otherwise use Python to explore them but we may not print them in the starter code.\n",
    "\n",
    "**Debugging your code:** Right before each exercise test cell there is a block of text explaining the variables available to you for debugging. You may use these to test your code and can print/display them as needed (careful when printing large objects you may want to print the head or chunks of rows at a time).\n",
    "\n",
    "**Exercise point breakdown:**\n",
    "\n",
    "\n",
    "- Exercise 0 - : **1** point(s)\n",
    "\n",
    "\n",
    "**Final reminders:** \n",
    "\n",
    "- Submit after **every exercise**\n",
    "- Review the generated grade report after you submit to see what errors were returned\n",
    "- Stay calm, skip problems as needed and take short breaks at your leisure"
   ]
  },
  {
   "cell_type": "code",
   "execution_count": null,
   "id": "2",
   "metadata": {
    "tags": [
     "main.global_imports"
    ]
   },
   "outputs": [],
   "source": [
    "### Global imports\n",
    "import dill\n",
    "from cse6040_devkit import plugins, utils\n",
    "import re \n",
    "import pandas as pd\n",
    "\n"
   ]
  },
  {
   "cell_type": "markdown",
   "id": "3",
   "metadata": {
    "tags": [
     "reverse_dict.prompt"
    ]
   },
   "source": [
    "### Exercise 0: (1 points)\n",
    "**reverse_dict**  \n",
    "\n",
    "**Your task:** define `reverse_dict` as follows:\n",
    "\n"
   ]
  },
  {
   "cell_type": "code",
   "execution_count": null,
   "id": "4",
   "metadata": {
    "tags": [
     "reverse_dict.solution"
    ]
   },
   "outputs": [
    {
     "name": "stdout",
     "output_type": "stream",
     "text": [
      "Results of `reverse_dict`(valid_d): Error Raised False; Result {1: 'A', 2: 'B', 3: 'C'}\n",
      "Results of `reverse_dict`(invalid_d): Error Raised True; Result None\n"
     ]
    }
   ],
   "source": [
    "### Solution - Exercise 0  \n",
    "def reverse_dict(d):\n",
    "    ### BEGIN SOLUTION\n",
    "    rev_d = {v:k for k, v in d.items()}\n",
    "    if len(d) != len(rev_d):\n",
    "        raise ValueError\n",
    "    return rev_d\n",
    "    ### END SOLUTION\n",
    "\n",
    "### Demo function call\n",
    "valid_d = {'A': 1, 'B': 2, 'C': 3}\n",
    "invalid_d = {'A': 1, 'B': 2, 'C': 2}\n",
    "error_raised, rev_d = plugins.error_handler(reverse_dict)(valid_d)\n",
    "print(f'Results of `reverse_dict`(valid_d): Error Raised {error_raised}; Result {rev_d}')\n",
    "error_raised, rev_d = plugins.error_handler(reverse_dict)(invalid_d)\n",
    "print(f'Results of `reverse_dict`(invalid_d): Error Raised {error_raised}; Result {rev_d}')"
   ]
  },
  {
   "cell_type": "markdown",
   "id": "5",
   "metadata": {
    "tags": [
     "reverse_dict.test_boilerplate"
    ]
   },
   "source": [
    " \n",
    "\n",
    "**The demo should display this printed output.**\n",
    "```\n",
    "Results of `reverse_dict`(valid_d): Error Raised False; Result {1: 'A', 2: 'B', 3: 'C'}\n",
    "Results of `reverse_dict`(invalid_d): Error Raised True; Result None\n",
    "```\n",
    "\n",
    "\n",
    " ---\n",
    " <!-- Test Cell Boilerplate -->  \n",
    "The cell below will test your solution for reverse_dict (exercise 0). The testing variables will be available for debugging under the following names in a dictionary format.  \n",
    "- `input_vars` - Input variables for your solution.   \n",
    "- `original_input_vars` - Copy of input variables from prior to running your solution. Any `key:value` pair in `original_input_vars` should also exist in `input_vars` - otherwise the inputs were modified by your solution.  \n",
    "- `returned_output_vars` - Outputs returned by your solution.  \n",
    "- `true_output_vars` - The expected output. This _should_ \"match\" `returned_output_vars` based on the question requirements - otherwise, your solution is not returning the correct output. \n"
   ]
  },
  {
   "cell_type": "code",
   "execution_count": null,
   "id": "6",
   "metadata": {
    "nbgrader": {
     "grade": true,
     "grade_id": "ex_0",
     "locked": true,
     "points": 1,
     "solution": false
    },
    "tags": [
     "reverse_dict.test"
    ]
   },
   "outputs": [
    {
     "name": "stdout",
     "output_type": "stream",
     "text": [
      "reverse_dict test ran 99 iterations in 0.05 seconds\n",
      "reverse_dict test ran 0 iterations in 0.00 seconds\n",
      "Passed! Please submit.\n"
     ]
    }
   ],
   "source": [
    "### Test Cell - Exercise 0  \n",
    "\n",
    "# Load testing utility\n",
    "with open('resource/asnlib/publicdata/execute_tests', 'rb') as f:\n",
    "    execute_tests = dill.load(f)\n",
    "\n",
    "# Execute test\n",
    "passed, test_case_vars, e = execute_tests(func=plugins.error_handler(reverse_dict),\n",
    "              ex_name='reverse_dict',\n",
    "              key=b'QjweeQJQjJGkvXjTnF1i7M5ibvMV_Xtqv4Q2py5RR8w=', \n",
    "              n_iter=100)\n",
    "# Assign test case vars for debugging\n",
    "input_vars, original_input_vars, returned_output_vars, true_output_vars = test_case_vars\n",
    "if e: raise e\n",
    "assert passed, 'The solution to reverse_dict did not pass the test.'\n",
    "\n",
    "### BEGIN HIDDEN TESTS\n",
    "passed, test_case_vars, e = execute_tests(func=plugins.error_handler(reverse_dict),\n",
    "              ex_name='reverse_dict',\n",
    "              key=b'NDTF82LIgRJW82C7H86Rblz4dx3pv19JrQTpGsGzRFU=', \n",
    "              n_iter=1,\n",
    "              hidden=True)\n",
    "input_vars, original_input_vars, returned_output_vars, true_output_vars = test_case_vars\n",
    "if e: raise e\n",
    "assert passed, 'The solution to reverse_dict did not pass the test.'\n",
    "### END HIDDEN TESTS\n",
    "print('Passed! Please submit.')"
   ]
  }
 ],
 "metadata": {
  "kernelspec": {
   "display_name": "Python 3.8",
   "language": "python",
   "name": "python38"
  }
 },
 "nbformat": 4,
 "nbformat_minor": 5
}
