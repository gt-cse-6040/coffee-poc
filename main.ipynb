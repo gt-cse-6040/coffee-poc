{
  "cells": [
    {
      "cell_type": "markdown",
      "metadata": {
        "id": "view-in-github",
        "colab_type": "text"
      },
      "source": [
        "<a href=\"https://colab.research.google.com/github/gt-cse-6040/coffee-poc/blob/main/main.ipynb\" target=\"_parent\"><img src=\"https://colab.research.google.com/assets/colab-badge.svg\" alt=\"Open In Colab\"/></a>"
      ]
    },
    {
      "cell_type": "code",
      "execution_count": 1,
      "id": "0",
      "metadata": {
        "id": "0",
        "outputId": "19d62eed-67ce-42f6-9e25-3ca36246e6a9",
        "colab": {
          "base_uri": "https://localhost:8080/"
        }
      },
      "outputs": [
        {
          "output_type": "stream",
          "name": "stdout",
          "text": [
            "  Installing build dependencies ... \u001b[?25l\u001b[?25hdone\n",
            "  Getting requirements to build wheel ... \u001b[?25l\u001b[?25hdone\n",
            "  Preparing metadata (pyproject.toml) ... \u001b[?25l\u001b[?25hdone\n",
            "  Building wheel for cse6040_devkit (pyproject.toml) ... \u001b[?25l\u001b[?25hdone\n",
            "\u001b[2K   \u001b[90m━━━━━━━━━━━━━━━━━━━━━━━━━━━━━━━━━━━━━━━━\u001b[0m \u001b[32m119.4/119.4 kB\u001b[0m \u001b[31m2.5 MB/s\u001b[0m eta \u001b[36m0:00:00\u001b[0m\n",
            "\u001b[?25h--2025-02-09 20:06:54--  https://github.com/gt-cse-6040/coffee-poc/archive/refs/heads/main.zip\n",
            "Resolving github.com (github.com)... 140.82.114.4\n",
            "Connecting to github.com (github.com)|140.82.114.4|:443... connected.\n",
            "HTTP request sent, awaiting response... 302 Found\n",
            "Location: https://codeload.github.com/gt-cse-6040/coffee-poc/zip/refs/heads/main [following]\n",
            "--2025-02-09 20:06:54--  https://codeload.github.com/gt-cse-6040/coffee-poc/zip/refs/heads/main\n",
            "Resolving codeload.github.com (codeload.github.com)... 140.82.113.10\n",
            "Connecting to codeload.github.com (codeload.github.com)|140.82.113.10|:443... connected.\n",
            "HTTP request sent, awaiting response... 200 OK\n",
            "Length: unspecified [application/zip]\n",
            "Saving to: ‘main.zip’\n",
            "\n",
            "main.zip                [ <=>                ]  33.33K  --.-KB/s    in 0.02s   \n",
            "\n",
            "2025-02-09 20:06:54 (1.35 MB/s) - ‘main.zip’ saved [34129]\n",
            "\n"
          ]
        }
      ],
      "source": [
        "!pip install -q git+https://github.com/albert-r-waldron/cse6040-devkit.git@v1.0.0\n",
        "!pip install -q dill\n",
        "!wget https://github.com/gt-cse-6040/coffee-poc/archive/refs/heads/main.zip\n",
        "!unzip -q main.zip\n",
        "!mv coffee-poc-main/* .\n",
        "!rm main.zip coffee-poc-main -r"
      ]
    },
    {
      "cell_type": "markdown",
      "id": "1",
      "metadata": {
        "tags": [
          "main.header"
        ],
        "id": "1"
      },
      "source": [
        "# `assignment name`: `assignment subtitle`\n",
        "_Version 0.0.1_\n",
        "\n",
        "*All of the header information is important. Please read it..*\n",
        "\n",
        "**Topics number of exercises:** This problem builds on your knowledge of `this, that, and the other`. It has **1** exercises numbered 0 to **0**. There are **total points** available points. However to earn 100% the threshold is **points cap** points. (Therefore once you hit **points cap** points you can stop. There is no extra credit for exceeding this threshold.)\n",
        "\n",
        "**Exercise ordering:** Each exercise builds logically on previous exercises but you may solve them in any order. That is if you can't solve an exercise you can still move on and try the next one. Use this to your advantage as the exercises are **not** necessarily ordered in terms of difficulty. Higher point values generally indicate more difficult exercises.\n",
        "\n",
        "**Demo cells:** Code cells starting with the comment `### Run Me!!!` load results from prior exercises applied to the entire data set and use those to build demo inputs. These must be run for subsequent demos to work properly but they do not affect the test cells. The data loaded in these cells may be rather large (at least in terms of human readability). You are free to print or otherwise use Python to explore them but we may not print them in the starter code.\n",
        "\n",
        "**Debugging your code:** Right before each exercise test cell there is a block of text explaining the variables available to you for debugging. You may use these to test your code and can print/display them as needed (careful when printing large objects you may want to print the head or chunks of rows at a time).\n",
        "\n",
        "**Exercise point breakdown:**\n",
        "\n",
        "\n",
        "- Exercise 0 - : **1** point(s)\n",
        "\n",
        "\n",
        "**Final reminders:**\n",
        "\n",
        "- Submit after **every exercise**\n",
        "- Review the generated grade report after you submit to see what errors were returned\n",
        "- Stay calm, skip problems as needed and take short breaks at your leisure"
      ]
    },
    {
      "cell_type": "code",
      "execution_count": 2,
      "id": "2",
      "metadata": {
        "tags": [
          "main.global_imports"
        ],
        "id": "2"
      },
      "outputs": [],
      "source": [
        "### Global imports\n",
        "import dill\n",
        "from cse6040_devkit import plugins, utils\n",
        "import re\n",
        "import pandas as pd\n",
        "\n"
      ]
    },
    {
      "cell_type": "markdown",
      "id": "3",
      "metadata": {
        "tags": [
          "reverse_dict.prompt"
        ],
        "id": "3"
      },
      "source": [
        "### Exercise 0: (1 points)\n",
        "**reverse_dict**  \n",
        "\n",
        "**Your task:** define `reverse_dict` as follows:\n",
        "\n"
      ]
    },
    {
      "cell_type": "code",
      "execution_count": 3,
      "id": "4",
      "metadata": {
        "tags": [
          "reverse_dict.solution"
        ],
        "id": "4",
        "outputId": "684684a6-2589-4dfb-9446-cd7dd0006b63",
        "colab": {
          "base_uri": "https://localhost:8080/"
        }
      },
      "outputs": [
        {
          "output_type": "stream",
          "name": "stdout",
          "text": [
            "Results of `reverse_dict`(valid_d): Error Raised False; Result {1: 'A', 2: 'B', 3: 'C'}\n",
            "Results of `reverse_dict`(invalid_d): Error Raised True; Result None\n"
          ]
        }
      ],
      "source": [
        "### Solution - Exercise 0\n",
        "def reverse_dict(d):\n",
        "    ### BEGIN SOLUTION\n",
        "    rev_d = {v:k for k, v in d.items()}\n",
        "    if len(d) != len(rev_d):\n",
        "        raise ValueError\n",
        "    return rev_d\n",
        "    ### END SOLUTION\n",
        "\n",
        "### Demo function call\n",
        "valid_d = {'A': 1, 'B': 2, 'C': 3}\n",
        "invalid_d = {'A': 1, 'B': 2, 'C': 2}\n",
        "error_raised, rev_d = plugins.error_handler(reverse_dict)(valid_d)\n",
        "print(f'Results of `reverse_dict`(valid_d): Error Raised {error_raised}; Result {rev_d}')\n",
        "error_raised, rev_d = plugins.error_handler(reverse_dict)(invalid_d)\n",
        "print(f'Results of `reverse_dict`(invalid_d): Error Raised {error_raised}; Result {rev_d}')"
      ]
    },
    {
      "cell_type": "markdown",
      "id": "5",
      "metadata": {
        "tags": [
          "reverse_dict.test_boilerplate"
        ],
        "id": "5"
      },
      "source": [
        "\n",
        "\n",
        "**The demo should display this printed output.**\n",
        "```\n",
        "Results of `reverse_dict`(valid_d): Error Raised False; Result {1: 'A', 2: 'B', 3: 'C'}\n",
        "Results of `reverse_dict`(invalid_d): Error Raised True; Result None\n",
        "```\n",
        "\n",
        "\n",
        " ---\n",
        " <!-- Test Cell Boilerplate -->  \n",
        "The cell below will test your solution for reverse_dict (exercise 0). The testing variables will be available for debugging under the following names in a dictionary format.  \n",
        "- `input_vars` - Input variables for your solution.   \n",
        "- `original_input_vars` - Copy of input variables from prior to running your solution. Any `key:value` pair in `original_input_vars` should also exist in `input_vars` - otherwise the inputs were modified by your solution.  \n",
        "- `returned_output_vars` - Outputs returned by your solution.  \n",
        "- `true_output_vars` - The expected output. This _should_ \"match\" `returned_output_vars` based on the question requirements - otherwise, your solution is not returning the correct output.\n"
      ]
    },
    {
      "cell_type": "code",
      "execution_count": 11,
      "id": "6",
      "metadata": {
        "nbgrader": {
          "grade": true,
          "grade_id": "ex_0",
          "locked": true,
          "points": 1,
          "solution": false
        },
        "tags": [
          "reverse_dict.test"
        ],
        "id": "6",
        "outputId": "12d9d4f1-66eb-4076-b972-ac79af87ad5b",
        "colab": {
          "base_uri": "https://localhost:8080/"
        }
      },
      "outputs": [
        {
          "output_type": "stream",
          "name": "stdout",
          "text": [
            "reverse_dict test ran 99 iterations in 0.04 seconds\n",
            "reverse_dict test ran 0 iterations in 0.01 seconds\n",
            "Passed! Please submit.\n"
          ]
        }
      ],
      "source": [
        "### Test Cell - Exercise 0\n",
        "\n",
        "# Load testing utility\n",
        "with open('resource/asnlib/publicdata/execute_tests', 'rb') as f:\n",
        "    execute_tests = dill.load(f)\n",
        "\n",
        "# Execute test\n",
        "passed, test_case_vars, e = execute_tests(func=plugins.error_handler(reverse_dict),\n",
        "              ex_name='reverse_dict',\n",
        "              key=b'QjweeQJQjJGkvXjTnF1i7M5ibvMV_Xtqv4Q2py5RR8w=',\n",
        "              n_iter=100)\n",
        "# Assign test case vars for debugging\n",
        "input_vars, original_input_vars, returned_output_vars, true_output_vars = test_case_vars\n",
        "if e: raise e\n",
        "assert passed, 'The solution to reverse_dict did not pass the test.'\n",
        "\n",
        "### BEGIN HIDDEN TESTS\n",
        "passed, test_case_vars, e = execute_tests(func=plugins.error_handler(reverse_dict),\n",
        "              ex_name='reverse_dict',\n",
        "              key=b'NDTF82LIgRJW82C7H86Rblz4dx3pv19JrQTpGsGzRFU=',\n",
        "              n_iter=1,\n",
        "              hidden=True)\n",
        "input_vars, original_input_vars, returned_output_vars, true_output_vars = test_case_vars\n",
        "if e: raise e\n",
        "assert passed, 'The solution to reverse_dict did not pass the test.'\n",
        "### END HIDDEN TESTS\n",
        "print('Passed! Please submit.')"
      ]
    }
  ],
  "metadata": {
    "kernelspec": {
      "display_name": "Python 3.8",
      "language": "python",
      "name": "python38"
    },
    "colab": {
      "provenance": [],
      "include_colab_link": true
    }
  },
  "nbformat": 4,
  "nbformat_minor": 5
}